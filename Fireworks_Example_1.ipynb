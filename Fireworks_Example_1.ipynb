{
 "cells": [
  {
   "cell_type": "code",
   "execution_count": 1,
   "metadata": {
    "collapsed": false
   },
   "outputs": [
    {
     "name": "stderr",
     "output_type": "stream",
     "text": [
      "DEBUG:launchpad:RESTARTED fw_id, launch_id to (1, 1)\n"
     ]
    },
    {
     "name": "stdout",
     "output_type": "stream",
     "text": [
      "2015-04-30 14:44:38,187 INFO Performing db tune-up\n"
     ]
    },
    {
     "name": "stderr",
     "output_type": "stream",
     "text": [
      "INFO:launchpad:Performing db tune-up\n",
      "DEBUG:launchpad:Updating indices...\n"
     ]
    },
    {
     "name": "stdout",
     "output_type": "stream",
     "text": [
      "2015-04-30 14:44:38,815 INFO LaunchPad was RESET.\n"
     ]
    },
    {
     "name": "stderr",
     "output_type": "stream",
     "text": [
      "INFO:launchpad:LaunchPad was RESET.\n"
     ]
    },
    {
     "name": "stdout",
     "output_type": "stream",
     "text": [
      "2015-04-30 14:44:38,850 INFO Added a workflow. id_map: {-1: 2, -2: 1}\n"
     ]
    },
    {
     "name": "stderr",
     "output_type": "stream",
     "text": [
      "INFO:launchpad:Added a workflow. id_map: {-1: 2, -2: 1}\n",
      "DEBUG:launchpad:FW with id: 2 is unique!\n"
     ]
    },
    {
     "name": "stdout",
     "output_type": "stream",
     "text": [
      "2015-04-30 14:44:38,868 INFO Created new dir /Users/kirkhamj/Developer/iPython/launcher_2015-04-30-18-44-38-868304\n"
     ]
    },
    {
     "name": "stderr",
     "output_type": "stream",
     "text": [
      "INFO:rocket.launcher:Created new dir /Users/kirkhamj/Developer/iPython/launcher_2015-04-30-18-44-38-868304\n"
     ]
    },
    {
     "name": "stdout",
     "output_type": "stream",
     "text": [
      "2015-04-30 14:44:38,869 INFO Launching Rocket\n"
     ]
    },
    {
     "name": "stderr",
     "output_type": "stream",
     "text": [
      "INFO:rocket.launcher:Launching Rocket\n",
      "DEBUG:launchpad:FW with id: 2 is unique!\n",
      "DEBUG:launchpad:Created/updated Launch with launch_id: 1\n",
      "DEBUG:launchpad:Checked out FW with id: 2\n"
     ]
    },
    {
     "name": "stdout",
     "output_type": "stream",
     "text": [
      "2015-04-30 14:44:39,233 INFO RUNNING fw_id: 2 in directory: /Users/kirkhamj/Developer/iPython/launcher_2015-04-30-18-44-38-868304\n"
     ]
    },
    {
     "name": "stderr",
     "output_type": "stream",
     "text": [
      "INFO:launchpad:RUNNING fw_id: 2 in directory: /Users/kirkhamj/Developer/iPython/launcher_2015-04-30-18-44-38-868304\n"
     ]
    },
    {
     "name": "stdout",
     "output_type": "stream",
     "text": [
      "2015-04-30 14:44:39,235 INFO Task started: ScriptTask.\n"
     ]
    },
    {
     "name": "stderr",
     "output_type": "stream",
     "text": [
      "INFO:launchpad:Task started: ScriptTask.\n"
     ]
    },
    {
     "name": "stdout",
     "output_type": "stream",
     "text": [
      "2015-04-30 14:44:39,246 INFO Task completed: ScriptTask \n"
     ]
    },
    {
     "name": "stderr",
     "output_type": "stream",
     "text": [
      "INFO:launchpad:Task completed: ScriptTask \n"
     ]
    },
    {
     "name": "stdout",
     "output_type": "stream",
     "text": [
      "2015-04-30 14:44:39,280 INFO Rocket finished\n"
     ]
    },
    {
     "name": "stderr",
     "output_type": "stream",
     "text": [
      "INFO:rocket.launcher:Rocket finished\n",
      "DEBUG:launchpad:FW with id: 1 is unique!\n"
     ]
    },
    {
     "name": "stdout",
     "output_type": "stream",
     "text": [
      "2015-04-30 14:44:39,282 INFO Created new dir /Users/kirkhamj/Developer/iPython/launcher_2015-04-30-18-44-39-282531\n"
     ]
    },
    {
     "name": "stderr",
     "output_type": "stream",
     "text": [
      "INFO:rocket.launcher:Created new dir /Users/kirkhamj/Developer/iPython/launcher_2015-04-30-18-44-39-282531\n"
     ]
    },
    {
     "name": "stdout",
     "output_type": "stream",
     "text": [
      "2015-04-30 14:44:39,283 INFO Launching Rocket\n"
     ]
    },
    {
     "name": "stderr",
     "output_type": "stream",
     "text": [
      "INFO:rocket.launcher:Launching Rocket\n",
      "DEBUG:launchpad:FW with id: 1 is unique!\n",
      "DEBUG:launchpad:Created/updated Launch with launch_id: 2\n",
      "DEBUG:launchpad:Checked out FW with id: 1\n"
     ]
    },
    {
     "name": "stdout",
     "output_type": "stream",
     "text": [
      "2015-04-30 14:44:39,294 INFO RUNNING fw_id: 1 in directory: /Users/kirkhamj/Developer/iPython/launcher_2015-04-30-18-44-39-282531\n"
     ]
    },
    {
     "name": "stderr",
     "output_type": "stream",
     "text": [
      "INFO:launchpad:RUNNING fw_id: 1 in directory: /Users/kirkhamj/Developer/iPython/launcher_2015-04-30-18-44-39-282531\n"
     ]
    },
    {
     "name": "stdout",
     "output_type": "stream",
     "text": [
      "2015-04-30 14:44:39,296 INFO Task started: ScriptTask.\n"
     ]
    },
    {
     "name": "stderr",
     "output_type": "stream",
     "text": [
      "INFO:launchpad:Task started: ScriptTask.\n"
     ]
    },
    {
     "name": "stdout",
     "output_type": "stream",
     "text": [
      "2015-04-30 14:44:39,304 INFO Task completed: ScriptTask \n"
     ]
    },
    {
     "name": "stderr",
     "output_type": "stream",
     "text": [
      "INFO:launchpad:Task completed: ScriptTask \n"
     ]
    },
    {
     "name": "stdout",
     "output_type": "stream",
     "text": [
      "2015-04-30 14:44:39,347 INFO Rocket finished\n"
     ]
    },
    {
     "name": "stderr",
     "output_type": "stream",
     "text": [
      "INFO:rocket.launcher:Rocket finished\n"
     ]
    }
   ],
   "source": [
    "from fireworks import Firework, Workflow, LaunchPad, ScriptTask\n",
    "from fireworks.core.rocket_launcher import rapidfire\n",
    "\n",
    "# set up the LaunchPad and reset it\n",
    "launchpad = LaunchPad()\n",
    "launchpad.reset('', require_password=False)\n",
    "\n",
    "# create the individual FireWorks and Workflow\n",
    "st1 = ScriptTask.from_str('echo \"hello\"', {\"store_stdout\": True, \"store_stderr\": True})\n",
    "st2 = ScriptTask.from_str('echo \"goodbye\"', {\"store_stdout\": True, \"store_stderr\": True})\n",
    "\n",
    "# create the individual FireWorks and Workflow\n",
    "fw1 = Firework(st1, name=\"hello\")\n",
    "fw2 = Firework(st2, name=\"goodbye\")\n",
    "wf = Workflow([fw1, fw2], {fw1:fw2}, name=\"test workflow\")\n",
    "\n",
    "# store workflow and launch it locally\n",
    "launchpad.add_wf(wf)\n",
    "rapidfire(launchpad)"
   ]
  },
  {
   "cell_type": "code",
   "execution_count": 2,
   "metadata": {
    "collapsed": false
   },
   "outputs": [
    {
     "name": "stdout",
     "output_type": "stream",
     "text": [
      "{u'returncode': 0, u'stdout': u'goodbye\\n', u'stderr': u'', u'all_returncodes': [0]}\n",
      "{u'returncode': 0, u'stdout': u'hello\\n', u'stderr': u'', u'all_returncodes': [0]}\n"
     ]
    }
   ],
   "source": [
    "for i in launchpad.get_fw_ids():\n",
    "    print launchpad.get_launch_by_id(i).action.stored_data"
   ]
  },
  {
   "cell_type": "code",
   "execution_count": null,
   "metadata": {
    "collapsed": true
   },
   "outputs": [],
   "source": []
  }
 ],
 "metadata": {
  "kernelspec": {
   "display_name": "Python 2",
   "language": "python",
   "name": "python2"
  },
  "language_info": {
   "codemirror_mode": {
    "name": "ipython",
    "version": 2
   },
   "file_extension": ".py",
   "mimetype": "text/x-python",
   "name": "python",
   "nbconvert_exporter": "python",
   "pygments_lexer": "ipython2",
   "version": "2.7.9"
  }
 },
 "nbformat": 4,
 "nbformat_minor": 0
}
