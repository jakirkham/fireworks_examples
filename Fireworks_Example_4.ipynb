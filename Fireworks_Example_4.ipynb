{
 "cells": [
  {
   "cell_type": "code",
   "execution_count": 1,
   "metadata": {
    "collapsed": true
   },
   "outputs": [],
   "source": [
    "# Define a Python function\n",
    "def summer(a, b=-1):\n",
    "    return a + b"
   ]
  },
  {
   "cell_type": "code",
   "execution_count": 2,
   "metadata": {
    "collapsed": false
   },
   "outputs": [
    {
     "name": "stderr",
     "output_type": "stream",
     "text": [
      "DEBUG:launchpad:RESTARTED fw_id, launch_id to (1, 1)\n"
     ]
    },
    {
     "name": "stdout",
     "output_type": "stream",
     "text": [
      "2015-04-30 16:41:58,545 INFO Performing db tune-up\n"
     ]
    },
    {
     "name": "stderr",
     "output_type": "stream",
     "text": [
      "INFO:launchpad:Performing db tune-up\n",
      "DEBUG:launchpad:Updating indices...\n"
     ]
    },
    {
     "name": "stdout",
     "output_type": "stream",
     "text": [
      "2015-04-30 16:41:59,170 INFO LaunchPad was RESET.\n"
     ]
    },
    {
     "name": "stderr",
     "output_type": "stream",
     "text": [
      "INFO:launchpad:LaunchPad was RESET.\n"
     ]
    },
    {
     "name": "stdout",
     "output_type": "stream",
     "text": [
      "2015-04-30 16:41:59,206 INFO Added a workflow. id_map: {-1: 1}\n"
     ]
    },
    {
     "name": "stderr",
     "output_type": "stream",
     "text": [
      "INFO:launchpad:Added a workflow. id_map: {-1: 1}\n"
     ]
    },
    {
     "name": "stdout",
     "output_type": "stream",
     "text": [
      "2015-04-30 16:41:59,207 INFO Launching Rocket\n"
     ]
    },
    {
     "name": "stderr",
     "output_type": "stream",
     "text": [
      "INFO:rocket.launcher:Launching Rocket\n",
      "DEBUG:launchpad:FW with id: 1 is unique!\n",
      "DEBUG:launchpad:Created/updated Launch with launch_id: 1\n",
      "DEBUG:launchpad:Checked out FW with id: 1\n"
     ]
    },
    {
     "name": "stdout",
     "output_type": "stream",
     "text": [
      "2015-04-30 16:41:59,553 INFO RUNNING fw_id: 1 in directory: /Users/kirkhamj/Developer/iPython/fireworks_examples\n"
     ]
    },
    {
     "name": "stderr",
     "output_type": "stream",
     "text": [
      "INFO:launchpad:RUNNING fw_id: 1 in directory: /Users/kirkhamj/Developer/iPython/fireworks_examples\n"
     ]
    },
    {
     "name": "stdout",
     "output_type": "stream",
     "text": [
      "2015-04-30 16:41:59,555 INFO Task started: PyTask.\n"
     ]
    },
    {
     "name": "stderr",
     "output_type": "stream",
     "text": [
      "INFO:launchpad:Task started: PyTask.\n"
     ]
    },
    {
     "name": "stdout",
     "output_type": "stream",
     "text": [
      "2015-04-30 16:41:59,557 INFO Task completed: PyTask \n"
     ]
    },
    {
     "name": "stderr",
     "output_type": "stream",
     "text": [
      "INFO:launchpad:Task completed: PyTask \n"
     ]
    },
    {
     "name": "stdout",
     "output_type": "stream",
     "text": [
      "2015-04-30 16:41:59,598 INFO Rocket finished\n"
     ]
    },
    {
     "name": "stderr",
     "output_type": "stream",
     "text": [
      "INFO:rocket.launcher:Rocket finished\n"
     ]
    },
    {
     "data": {
      "text/plain": [
       "True"
      ]
     },
     "execution_count": 2,
     "metadata": {},
     "output_type": "execute_result"
    }
   ],
   "source": [
    "from fireworks import Firework, FWorker, LaunchPad, PyTask\n",
    "from fireworks.core.rocket_launcher import launch_rocket\n",
    "\n",
    "# set up the LaunchPad and reset it\n",
    "launchpad = LaunchPad()\n",
    "launchpad.reset('', require_password=False)\n",
    "\n",
    "# create the Firework consisting of python function task\n",
    "firetask1 = PyTask(func=\"__main__.summer\", a=2, stored_data_varname=\"result\")\n",
    "fw = Firework([firetask1])\n",
    "\n",
    "# store workflow and launch it locally, single shot\n",
    "launchpad.add_wf(fw)\n",
    "launch_rocket(launchpad, FWorker())"
   ]
  },
  {
   "cell_type": "code",
   "execution_count": 3,
   "metadata": {
    "collapsed": false
   },
   "outputs": [
    {
     "name": "stdout",
     "output_type": "stream",
     "text": [
      "{u'result': 1}\n"
     ]
    }
   ],
   "source": [
    "for i in launchpad.get_fw_ids():\n",
    "    print launchpad.get_launch_by_id(i).action.stored_data"
   ]
  },
  {
   "cell_type": "code",
   "execution_count": null,
   "metadata": {
    "collapsed": true
   },
   "outputs": [],
   "source": []
  }
 ],
 "metadata": {
  "kernelspec": {
   "display_name": "Python 2",
   "language": "python",
   "name": "python2"
  },
  "language_info": {
   "codemirror_mode": {
    "name": "ipython",
    "version": 2
   },
   "file_extension": ".py",
   "mimetype": "text/x-python",
   "name": "python",
   "nbconvert_exporter": "python",
   "pygments_lexer": "ipython2",
   "version": "2.7.9"
  }
 },
 "nbformat": 4,
 "nbformat_minor": 0
}
