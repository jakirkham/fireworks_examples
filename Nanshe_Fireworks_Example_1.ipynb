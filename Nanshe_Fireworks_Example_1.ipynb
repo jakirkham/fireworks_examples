{
 "cells": [
  {
   "cell_type": "code",
   "execution_count": 1,
   "metadata": {
    "collapsed": false
   },
   "outputs": [
    {
     "name": "stderr",
     "output_type": "stream",
     "text": [
      "DEBUG:launchpad:RESTARTED fw_id, launch_id to (1, 1)\n"
     ]
    },
    {
     "name": "stdout",
     "output_type": "stream",
     "text": [
      "successfully loaded your custom FW_config.yaml!\n",
      "2015-05-05 19:24:45,331 INFO Performing db tune-up\n"
     ]
    },
    {
     "name": "stderr",
     "output_type": "stream",
     "text": [
      "INFO:launchpad:Performing db tune-up\n",
      "DEBUG:launchpad:Updating indices...\n"
     ]
    },
    {
     "name": "stdout",
     "output_type": "stream",
     "text": [
      "2015-05-05 19:24:45,955 INFO LaunchPad was RESET.\n"
     ]
    },
    {
     "name": "stderr",
     "output_type": "stream",
     "text": [
      "INFO:launchpad:LaunchPad was RESET.\n"
     ]
    },
    {
     "name": "stdout",
     "output_type": "stream",
     "text": [
      "2015-05-05 19:24:45,990 INFO Added a workflow. id_map: {-1: 1}\n"
     ]
    },
    {
     "name": "stderr",
     "output_type": "stream",
     "text": [
      "INFO:launchpad:Added a workflow. id_map: {-1: 1}\n",
      "DEBUG:launchpad:FW with id: 1 is unique!\n"
     ]
    },
    {
     "name": "stdout",
     "output_type": "stream",
     "text": [
      "2015-05-05 19:24:46,010 INFO Created new dir /Users/kirkhamj/Developer/iPython/fireworks_examples/launcher_2015-05-05-23-24-46-009897\n"
     ]
    },
    {
     "name": "stderr",
     "output_type": "stream",
     "text": [
      "INFO:rocket.launcher:Created new dir /Users/kirkhamj/Developer/iPython/fireworks_examples/launcher_2015-05-05-23-24-46-009897\n"
     ]
    },
    {
     "name": "stdout",
     "output_type": "stream",
     "text": [
      "2015-05-05 19:24:46,011 INFO Launching Rocket\n"
     ]
    },
    {
     "name": "stderr",
     "output_type": "stream",
     "text": [
      "INFO:rocket.launcher:Launching Rocket\n",
      "DEBUG:launchpad:FW with id: 1 is unique!\n",
      "DEBUG:launchpad:Created/updated Launch with launch_id: 1\n",
      "DEBUG:launchpad:Checked out FW with id: 1\n"
     ]
    },
    {
     "name": "stdout",
     "output_type": "stream",
     "text": [
      "2015-05-05 19:24:46,321 INFO RUNNING fw_id: 1 in directory: /Users/kirkhamj/Developer/iPython/fireworks_examples/launcher_2015-05-05-23-24-46-009897\n"
     ]
    },
    {
     "name": "stderr",
     "output_type": "stream",
     "text": [
      "INFO:launchpad:RUNNING fw_id: 1 in directory: /Users/kirkhamj/Developer/iPython/fireworks_examples/launcher_2015-05-05-23-24-46-009897\n"
     ]
    },
    {
     "name": "stdout",
     "output_type": "stream",
     "text": [
      "2015-05-05 19:24:46,323 INFO Task started: SetupFilesTask.\n"
     ]
    },
    {
     "name": "stderr",
     "output_type": "stream",
     "text": [
      "INFO:launchpad:Task started: SetupFilesTask.\n"
     ]
    },
    {
     "name": "stdout",
     "output_type": "stream",
     "text": [
      "2015-05-05 19:24:46,325 DEBUG cwd = /Users/kirkhamj/Developer/iPython/fireworks_examples/launcher_2015-05-05-23-24-46-009897\n"
     ]
    },
    {
     "name": "stderr",
     "output_type": "stream",
     "text": [
      "DEBUG:nanshe.flow.tasks:cwd = /Users/kirkhamj/Developer/iPython/fireworks_examples/launcher_2015-05-05-23-24-46-009897\n"
     ]
    },
    {
     "name": "stdout",
     "output_type": "stream",
     "text": [
      "2015-05-05 19:24:46,325 DEBUG each_filename = test.txt\n"
     ]
    },
    {
     "name": "stderr",
     "output_type": "stream",
     "text": [
      "DEBUG:nanshe.flow.tasks:each_filename = test.txt\n"
     ]
    },
    {
     "name": "stdout",
     "output_type": "stream",
     "text": [
      "2015-05-05 19:24:46,325 DEBUG each_newfilepath = /Users/kirkhamj/Developer/iPython/fireworks_examples/launcher_2015-05-05-23-24-46-009897/test.txt\n"
     ]
    },
    {
     "name": "stderr",
     "output_type": "stream",
     "text": [
      "DEBUG:nanshe.flow.tasks:each_newfilepath = /Users/kirkhamj/Developer/iPython/fireworks_examples/launcher_2015-05-05-23-24-46-009897/test.txt\n"
     ]
    },
    {
     "name": "stdout",
     "output_type": "stream",
     "text": [
      "2015-05-05 19:24:46,326 INFO Task completed: SetupFilesTask \n"
     ]
    },
    {
     "name": "stderr",
     "output_type": "stream",
     "text": [
      "INFO:launchpad:Task completed: SetupFilesTask \n"
     ]
    },
    {
     "name": "stdout",
     "output_type": "stream",
     "text": [
      "2015-05-05 19:24:46,343 INFO Rocket finished\n"
     ]
    },
    {
     "name": "stderr",
     "output_type": "stream",
     "text": [
      "INFO:rocket.launcher:Rocket finished\n"
     ]
    }
   ],
   "source": [
    "import os\n",
    "\n",
    "from fireworks import Firework, FWorker, LaunchPad, PyTask\n",
    "from fireworks.core.rocket_launcher import launch_rocket, rapidfire\n",
    "\n",
    "from nanshe.flow.tasks import SetupFilesTask, PyWrappedTask\n",
    "\n",
    "# set up the LaunchPad and reset it\n",
    "launchpad = LaunchPad()\n",
    "launchpad.reset('', require_password=False)\n",
    "\n",
    "# touch the text file\n",
    "test_filename = os.path.abspath(\"test.txt\")\n",
    "with open(test_filename, 'a') as f:\n",
    "    pass\n",
    "\n",
    "# create the Firework consisting of python function task\n",
    "firetask = SetupFilesTask(filepaths=[test_filename])\n",
    "firework = Firework([firetask])\n",
    "\n",
    "# store workflow and launch it locally, single shot\n",
    "launchpad.add_wf(firework)\n",
    "rapidfire(launchpad, FWorker())"
   ]
  },
  {
   "cell_type": "code",
   "execution_count": 2,
   "metadata": {
    "collapsed": false
   },
   "outputs": [
    {
     "name": "stdout",
     "output_type": "stream",
     "text": [
      "{u'cwd': u'/Users/kirkhamj/Developer/iPython/fireworks_examples/launcher_2015-05-05-23-24-46-009897', u'filepaths': [u'/Users/kirkhamj/Developer/iPython/fireworks_examples/launcher_2015-05-05-23-24-46-009897/test.txt']}\n"
     ]
    }
   ],
   "source": [
    "for i in launchpad.get_fw_ids():\n",
    "    print launchpad.get_launch_by_id(i).action.stored_data"
   ]
  },
  {
   "cell_type": "code",
   "execution_count": null,
   "metadata": {
    "collapsed": true
   },
   "outputs": [],
   "source": []
  }
 ],
 "metadata": {
  "kernelspec": {
   "display_name": "Python 2",
   "language": "python",
   "name": "python2"
  },
  "language_info": {
   "codemirror_mode": {
    "name": "ipython",
    "version": 2
   },
   "file_extension": ".py",
   "mimetype": "text/x-python",
   "name": "python",
   "nbconvert_exporter": "python",
   "pygments_lexer": "ipython2",
   "version": "2.7.9"
  }
 },
 "nbformat": 4,
 "nbformat_minor": 0
}
