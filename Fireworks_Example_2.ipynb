{
 "cells": [
  {
   "cell_type": "code",
   "execution_count": 1,
   "metadata": {
    "collapsed": false
   },
   "outputs": [
    {
     "name": "stderr",
     "output_type": "stream",
     "text": [
      "DEBUG:launchpad:RESTARTED fw_id, launch_id to (1, 1)\n"
     ]
    },
    {
     "name": "stdout",
     "output_type": "stream",
     "text": [
      "2015-04-30 15:31:23,059 INFO Performing db tune-up\n"
     ]
    },
    {
     "name": "stderr",
     "output_type": "stream",
     "text": [
      "INFO:launchpad:Performing db tune-up\n",
      "DEBUG:launchpad:Updating indices...\n"
     ]
    },
    {
     "name": "stdout",
     "output_type": "stream",
     "text": [
      "2015-04-30 15:31:23,686 INFO LaunchPad was RESET.\n"
     ]
    },
    {
     "name": "stderr",
     "output_type": "stream",
     "text": [
      "INFO:launchpad:LaunchPad was RESET.\n"
     ]
    },
    {
     "name": "stdout",
     "output_type": "stream",
     "text": [
      "2015-04-30 15:31:23,722 INFO Added a workflow. id_map: {-1: 1}\n"
     ]
    },
    {
     "name": "stderr",
     "output_type": "stream",
     "text": [
      "INFO:launchpad:Added a workflow. id_map: {-1: 1}\n"
     ]
    },
    {
     "name": "stdout",
     "output_type": "stream",
     "text": [
      "2015-04-30 15:31:23,723 INFO Launching Rocket\n"
     ]
    },
    {
     "name": "stderr",
     "output_type": "stream",
     "text": [
      "INFO:rocket.launcher:Launching Rocket\n",
      "DEBUG:launchpad:FW with id: 1 is unique!\n",
      "DEBUG:launchpad:Created/updated Launch with launch_id: 1\n",
      "DEBUG:launchpad:Checked out FW with id: 1\n"
     ]
    },
    {
     "name": "stdout",
     "output_type": "stream",
     "text": [
      "2015-04-30 15:31:24,092 INFO RUNNING fw_id: 1 in directory: /Users/kirkhamj/Developer/iPython/fireworks_examples\n"
     ]
    },
    {
     "name": "stderr",
     "output_type": "stream",
     "text": [
      "INFO:launchpad:RUNNING fw_id: 1 in directory: /Users/kirkhamj/Developer/iPython/fireworks_examples\n"
     ]
    },
    {
     "name": "stdout",
     "output_type": "stream",
     "text": [
      "2015-04-30 15:31:24,093 INFO Task started: TemplateWriterTask.\n"
     ]
    },
    {
     "name": "stderr",
     "output_type": "stream",
     "text": [
      "INFO:launchpad:Task started: TemplateWriterTask.\n"
     ]
    },
    {
     "name": "stdout",
     "output_type": "stream",
     "text": [
      "2015-04-30 15:31:24,098 INFO Task completed: TemplateWriterTask \n"
     ]
    },
    {
     "name": "stderr",
     "output_type": "stream",
     "text": [
      "INFO:launchpad:Task completed: TemplateWriterTask \n"
     ]
    },
    {
     "name": "stdout",
     "output_type": "stream",
     "text": [
      "2015-04-30 15:31:24,099 INFO Task started: ScriptTask.\n"
     ]
    },
    {
     "name": "stderr",
     "output_type": "stream",
     "text": [
      "INFO:launchpad:Task started: ScriptTask.\n"
     ]
    },
    {
     "name": "stdout",
     "output_type": "stream",
     "text": [
      "2015-04-30 15:31:24,108 INFO Task completed: ScriptTask \n"
     ]
    },
    {
     "name": "stderr",
     "output_type": "stream",
     "text": [
      "INFO:launchpad:Task completed: ScriptTask \n"
     ]
    },
    {
     "name": "stdout",
     "output_type": "stream",
     "text": [
      "2015-04-30 15:31:24,109 INFO Task started: FileTransferTask.\n"
     ]
    },
    {
     "name": "stderr",
     "output_type": "stream",
     "text": [
      "INFO:launchpad:Task started: FileTransferTask.\n"
     ]
    },
    {
     "name": "stdout",
     "output_type": "stream",
     "text": [
      "2015-04-30 15:31:24,112 INFO Task completed: FileTransferTask \n"
     ]
    },
    {
     "name": "stderr",
     "output_type": "stream",
     "text": [
      "INFO:launchpad:Task completed: FileTransferTask \n"
     ]
    },
    {
     "name": "stdout",
     "output_type": "stream",
     "text": [
      "2015-04-30 15:31:24,147 INFO Rocket finished\n"
     ]
    },
    {
     "name": "stderr",
     "output_type": "stream",
     "text": [
      "INFO:rocket.launcher:Rocket finished\n"
     ]
    },
    {
     "data": {
      "text/plain": [
       "True"
      ]
     },
     "execution_count": 1,
     "metadata": {},
     "output_type": "execute_result"
    }
   ],
   "source": [
    "from fireworks import Firework, FWorker, LaunchPad, ScriptTask, TemplateWriterTask, FileTransferTask\n",
    "from fireworks.core.rocket_launcher import launch_rocket\n",
    "\n",
    "# set up the LaunchPad and reset it\n",
    "launchpad = LaunchPad()\n",
    "launchpad.reset('', require_password=False)\n",
    "\n",
    "# create the Firework consisting of multiple tasks\n",
    "firetask1 = TemplateWriterTask({'context': {'opt1': 5.0, 'opt2': 'fast method'}, 'template_file': 'simple_template.txt', 'output_file': 'inputs.txt'})\n",
    "firetask2 = ScriptTask.from_str('wc -w', {\"stdin_file\": \"data/inputs.txt\",\"stdout_file\": \"words.txt\", \"store_stderr\": True})\n",
    "firetask3 = FileTransferTask({'files': [{'src': 'words.txt', 'dest': '~/words.txt'}], 'mode': 'copy'})\n",
    "fw = Firework([firetask1, firetask2, firetask3])\n",
    "\n",
    "# store workflow and launch it locally, single shot\n",
    "launchpad.add_wf(fw)\n",
    "launch_rocket(launchpad, FWorker())"
   ]
  },
  {
   "cell_type": "code",
   "execution_count": 2,
   "metadata": {
    "collapsed": false
   },
   "outputs": [
    {
     "name": "stdout",
     "output_type": "stream",
     "text": [
      "{u'returncode': 0, u'stderr': u'', u'all_returncodes': [0]}\n"
     ]
    }
   ],
   "source": [
    "for i in launchpad.get_fw_ids():\n",
    "    print launchpad.get_launch_by_id(i).action.stored_data"
   ]
  },
  {
   "cell_type": "code",
   "execution_count": null,
   "metadata": {
    "collapsed": true
   },
   "outputs": [],
   "source": []
  }
 ],
 "metadata": {
  "kernelspec": {
   "display_name": "Python 2",
   "language": "python",
   "name": "python2"
  },
  "language_info": {
   "codemirror_mode": {
    "name": "ipython",
    "version": 2
   },
   "file_extension": ".py",
   "mimetype": "text/x-python",
   "name": "python",
   "nbconvert_exporter": "python",
   "pygments_lexer": "ipython2",
   "version": "2.7.9"
  }
 },
 "nbformat": 4,
 "nbformat_minor": 0
}
